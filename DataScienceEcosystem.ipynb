{
  "metadata": {
    "kernelspec": {
      "name": "python",
      "display_name": "Python (Pyodide)",
      "language": "python"
    },
    "language_info": {
      "codemirror_mode": {
        "name": "python",
        "version": 3
      },
      "file_extension": ".py",
      "mimetype": "text/x-python",
      "name": "python",
      "nbconvert_exporter": "python",
      "pygments_lexer": "ipython3",
      "version": "3.8"
    }
  },
  "nbformat_minor": 5,
  "nbformat": 4,
  "cells": [
    {
      "id": "7f181abb-cec3-4f38-9b30-fa35e3f59095",
      "cell_type": "markdown",
      "source": "# Data Science Tools and Ecosystem",
      "metadata": {}
    },
    {
      "id": "439cb41f-29fe-4608-af6c-b0ebf3c382f0",
      "cell_type": "markdown",
      "source": "## In this notebook, Data Science Tools and Ecosystem are summarize",
      "metadata": {}
    },
    {
      "id": "0528dd8c-2a38-4d17-8bab-93ce6bc83273",
      "cell_type": "markdown",
      "source": "## Some of the popular languages that Data Scientists use are:\n\n1. Python\n2. R\n3. SQL\n4. Julia\n5. Scala",
      "metadata": {}
    },
    {
      "id": "22166f75-cfda-404c-9ff2-114c68936e0e",
      "cell_type": "markdown",
      "source": "## Some of the commonly used libraries used by Data Scientists include:\n\n1. Pandas\n2. Numpy\n3. Scikit-learn\n4. Matplotlib\n5. Seaborn\n6. Tensorflow",
      "metadata": {}
    },
    {
      "id": "0b4ffeab-eb74-4f6a-81f5-6d9519f7ff53",
      "cell_type": "markdown",
      "source": "| Data Science Tools |\n| --------------------|\n| Jupyter |\n| R Studio |\n| MySQL |\n| Apache kafka |",
      "metadata": {}
    },
    {
      "id": "b9cfe479-3510-4b49-b21c-db38df306321",
      "cell_type": "markdown",
      "source": "### Below are a few examples of evaluating arithmetic expressions in Python",
      "metadata": {}
    },
    {
      "id": "1f3d3233-8a2a-48cb-8be7-057f740c7f31",
      "cell_type": "code",
      "source": "# This a simple arithmetic expression to mutiply then add integers\n(3*4)+5",
      "metadata": {
        "trusted": true
      },
      "outputs": [
        {
          "execution_count": 2,
          "output_type": "execute_result",
          "data": {
            "text/plain": "17"
          },
          "metadata": {}
        }
      ],
      "execution_count": 2
    },
    {
      "id": "b76affb6-ccf8-4484-94b3-a6249bb5e05b",
      "cell_type": "code",
      "source": "# This will convert 200 minutes to hours by diving by 60.\n\nmin  = 200\nhours = 200/60\nprint(hours)",
      "metadata": {
        "trusted": true
      },
      "outputs": [
        {
          "name": "stdout",
          "output_type": "stream",
          "text": "3.3333333333333335\n"
        }
      ],
      "execution_count": 6
    },
    {
      "id": "60455119-8446-4230-b8c7-08b7c77f53b7",
      "cell_type": "markdown",
      "source": "**Objectives:**\n\n##### List popular languages for Data Science\n\n* Python\n* R\n* SQL\n* Julia\n* Scala\n",
      "metadata": {}
    },
    {
      "id": "8ec71ee7-e909-401a-a3ec-70db548ad7db",
      "cell_type": "markdown",
      "source": " ## Author\n##### Harsha",
      "metadata": {}
    },
    {
      "id": "aa0077fe-d025-4f83-b89b-10c0742f0bb7",
      "cell_type": "code",
      "source": "",
      "metadata": {
        "trusted": true
      },
      "outputs": [],
      "execution_count": null
    }
  ]
}